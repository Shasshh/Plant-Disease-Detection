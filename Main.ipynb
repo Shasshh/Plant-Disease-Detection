{
 "cells": [
  {
   "cell_type": "code",
   "execution_count": null,
   "id": "ee261dfe",
   "metadata": {},
   "outputs": [
    {
     "name": "stdout",
     "output_type": "stream",
     "text": [
      " * Serving Flask app '__main__'\n",
      " * Debug mode: off\n"
     ]
    },
    {
     "name": "stderr",
     "output_type": "stream",
     "text": [
      "WARNING: This is a development server. Do not use it in a production deployment. Use a production WSGI server instead.\n",
      " * Running on http://127.0.0.1:5000\n",
      "Press CTRL+C to quit\n",
      "127.0.0.1 - - [30/Aug/2024 12:18:49] \"GET / HTTP/1.1\" 200 -\n",
      "127.0.0.1 - - [30/Aug/2024 12:18:51] \"GET /favicon.ico HTTP/1.1\" 404 -\n"
     ]
    }
   ],
   "source": [
    "import os\n",
    "from flask import Flask, redirect, render_template, request\n",
    "from PIL import Image\n",
    "import torchvision.transforms.functional as TF\n",
    "import numpy as np\n",
    "import torch\n",
    "import pandas as pd\n",
    "import CNN\n",
    "\n",
    "\n",
    "disease_info = pd.read_csv('C:\\\\Users\\\\Asus\\\\Downloads\\\\Plant-Disease-Detection-main\\\\Plant-Disease-Detection-main\\\\Flask Deployed App\\\\disease_info.csv' , encoding='cp1252')\n",
    "supplement_info = pd.read_csv('C:\\\\Users\\\\Asus\\\\Downloads\\\\Plant-Disease-Detection-main\\\\Plant-Disease-Detection-main\\\\Flask Deployed App\\\\supplement_info.csv',encoding='cp1252')\n",
    "\n",
    "model = CNN.CNN(39)\n",
    "model.load_state_dict(torch.load(\"plant_disease_model_1_latest.pt\"))\n",
    "model.eval()\n",
    "\n",
    "def prediction(image_path):\n",
    "    image = Image.open(image_path)\n",
    "    image = image.resize((224, 224))\n",
    "    input_data = TF.to_tensor(image)\n",
    "    input_data = input_data.view((-1, 3, 224, 224))\n",
    "    output = model(input_data)\n",
    "    output = output.detach().numpy()\n",
    "    index = np.argmax(output)\n",
    "    return index\n",
    "\n",
    "\n",
    "\n",
    "app = Flask(__name__, template_folder='templates')\n",
    "\n",
    "\n",
    "@app.route('/')\n",
    "def home_page():\n",
    "    return render_template('home.html')\n",
    "\n",
    "@app.route('/contact')\n",
    "def contact():\n",
    "    return render_template('contact-us.html')\n",
    "\n",
    "@app.route('/index')\n",
    "def ai_engine_page():\n",
    "    return render_template('index.html')\n",
    "\n",
    "@app.route('/mobile-device')\n",
    "def mobile_device_detected_page():\n",
    "    return render_template('mobile-device.html')\n",
    "\n",
    "\n",
    "\n",
    "UPLOAD_FOLDER = 'static/uploads'\n",
    "if not os.path.exists(UPLOAD_FOLDER):\n",
    "    os.makedirs(UPLOAD_FOLDER)\n",
    "\n",
    "\n",
    "@app.route('/submit', methods=['GET', 'POST'])\n",
    "def submit():\n",
    "    if request.method == 'POST':\n",
    "        image = request.files['image']\n",
    "        filename = image.filename\n",
    "        file_path = os.path.join('static/uploads', filename)\n",
    "        image.save(file_path)\n",
    "        print(file_path)\n",
    "        pred = prediction(file_path)\n",
    "        title = disease_info['disease_name'][pred]\n",
    "        description =disease_info['description'][pred]\n",
    "        prevent = disease_info['Possible Steps'][pred]\n",
    "        image_url = disease_info['image_url'][pred]\n",
    "        supplement_name = supplement_info['supplement name'][pred]\n",
    "        supplement_image_url = supplement_info['supplement image'][pred]\n",
    "        supplement_buy_link = supplement_info['buy link'][pred]\n",
    "        return render_template('submit.html' , title = title , desc = description , prevent = prevent ,\n",
    "                               image_url = image_url , pred = pred ,sname = supplement_name , simage = supplement_image_url , buy_link = supplement_buy_link)\n",
    "\n",
    "@app.route('/market', methods=['GET', 'POST'])\n",
    "def market():\n",
    "    return render_template('market.html', supplement_image = list(supplement_info['supplement image']),\n",
    "                           supplement_name = list(supplement_info['supplement name']), disease = list(disease_info['disease_name']), buy = list(supplement_info['buy link']))\n",
    "\n",
    "if __name__ == '__main__':\n",
    "    app.run(debug=False)\n"
   ]
  },
  {
   "cell_type": "code",
   "execution_count": null,
   "id": "b975ec05",
   "metadata": {},
   "outputs": [],
   "source": []
  }
 ],
 "metadata": {
  "kernelspec": {
   "display_name": "Python 3 (ipykernel)",
   "language": "python",
   "name": "python3"
  },
  "language_info": {
   "codemirror_mode": {
    "name": "ipython",
    "version": 3
   },
   "file_extension": ".py",
   "mimetype": "text/x-python",
   "name": "python",
   "nbconvert_exporter": "python",
   "pygments_lexer": "ipython3",
   "version": "3.11.5"
  }
 },
 "nbformat": 4,
 "nbformat_minor": 5
}
